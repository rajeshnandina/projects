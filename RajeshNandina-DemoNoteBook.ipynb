{
    "cells": [
        {
            "cell_type": "markdown",
            "metadata": {},
            "source": "<h1>My Jupyter Notebook on IBM Watson Studio</h1>"
        },
        {
            "cell_type": "markdown",
            "metadata": {},
            "source": "<b>Rajesh Nandina</b> <br>\nAdvisory System Analyst at IBM"
        },
        {
            "cell_type": "markdown",
            "metadata": {},
            "source": "<i>I am interested in data science because it provides oppurtunities to dig more insights from the data using different tools that helps business understands the outcome in a positive manner</i>"
        },
        {
            "cell_type": "markdown",
            "metadata": {},
            "source": "<h3>My code is to perform addition of two numbers and display output to user</h3>"
        },
        {
            "cell_type": "code",
            "execution_count": 7,
            "metadata": {},
            "outputs": [
                {
                    "name": "stdout",
                    "output_type": "stream",
                    "text": "Addition of value1 and value 2 is  30\n"
                }
            ],
            "source": "value1=10\nvalue2=20\nprint(\"Addition of value1 and value 2 is \", value1+value2)"
        },
        {
            "cell_type": "markdown",
            "metadata": {},
            "source": "Table is below for referrence <br> \n\n<table>\n  <tr>\n    <th>Column1</th>\n    <th>Column2</th>\n  </tr>\n  <tr>\n    <td>Rajesh</td>\n    <td>Nandina</td>\n  </tr>\n  <tr>\n    <td>Course Era</td>\n    <td>IBM</td>\n  </tr>\n</table>\n\nHorizontal Rule is below for referrence <br>\n<hr>\n\nBulleted List is below for referrence <br>\n<ul>\n    <li>First Value</li>\n    <li>Second Value</li>\n    <li>Third Value</li>\n</ul>\n\nOrdered List is below for referrence <br> \n\n<ol>\n    <li>First Value</li>\n    <li>Second Value</li>\n    <li>Third Value</li>\n</ol>\n\n\n"
        }
    ],
    "metadata": {
        "kernelspec": {
            "display_name": "Python 3.9",
            "language": "python",
            "name": "python3"
        },
        "language_info": {
            "codemirror_mode": {
                "name": "ipython",
                "version": 3
            },
            "file_extension": ".py",
            "mimetype": "text/x-python",
            "name": "python",
            "nbconvert_exporter": "python",
            "pygments_lexer": "ipython3",
            "version": "3.9.7"
        }
    },
    "nbformat": 4,
    "nbformat_minor": 1
}